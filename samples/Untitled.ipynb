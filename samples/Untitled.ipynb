{
 "cells": [
  {
   "cell_type": "markdown",
   "metadata": {},
   "source": [
    "# CSCI 561 Homework 1st\n",
    "\n",
    "Circle & Star<br \\>\n",
    "via Trumpet\n",
    "\n",
    "![image](./11.jpg)\n",
    "\n",
    "+ [parameter](#Parameter)\n",
    "+ [functions](#Funcs)\n",
    "+ [readfile](#Readfile)\n",
    "+ [process](#After-that)\n",
    "+ [end](#issues)"
   ]
  },
  {
   "cell_type": "markdown",
   "metadata": {},
   "source": [
    "## Parameter"
   ]
  },
  {
   "cell_type": "code",
   "execution_count": 3,
   "metadata": {
    "collapsed": true
   },
   "outputs": [],
   "source": [
    "import copy\n",
    "inputfile = 'input3.txt'\n",
    "dic = \"HGFEDCBA\""
   ]
  },
  {
   "cell_type": "markdown",
   "metadata": {},
   "source": [
    "## Funcs\n",
    "+ gameend\n",
    "+ countUtilityForStar\n",
    "+ starMove\n",
    "+ circleMove"
   ]
  },
  {
   "cell_type": "code",
   "execution_count": 4,
   "metadata": {
    "collapsed": true
   },
   "outputs": [],
   "source": [
    "def gameend(nowState):\n",
    "    aNumGreaterThanZero = False\n",
    "    aNumLowerThanZero = False\n",
    "    for row in nowState:\n",
    "        for grid in row:\n",
    "            if grid < 0:\n",
    "                aNumLowerThanZero = True\n",
    "            if grid > 0:\n",
    "                aNumGreaterThanZero = True\n",
    "    return (aNumLowerThanZero and aNumGreaterThanZero)\n",
    "\n",
    "# 棋盘上有两种子"
   ]
  },
  {
   "cell_type": "code",
   "execution_count": 5,
   "metadata": {
    "collapsed": true
   },
   "outputs": [],
   "source": [
    "def countUtilityForStar(nowState,rowValue):\n",
    "    result = 0\n",
    "    for i in range(8):\n",
    "        for j in nowState[i]:\n",
    "            if j > 0:\n",
    "                result = result + rowValue[7-i] * j\n",
    "            if j < 0:\n",
    "                result = result + rowValue[i] * j\n",
    "    return result\n",
    "def countUtilityForCircle(nowState,rowValue):\n",
    "    return -1 * countUtilityForStar(nowState,rowValue)\n",
    "\n",
    "# print countUtilityForStar(nowState,rowValue)"
   ]
  },
  {
   "cell_type": "code",
   "execution_count": 6,
   "metadata": {
    "collapsed": true
   },
   "outputs": [],
   "source": [
    "def starMove(nowState,nodeindex):\n",
    "    result = []\n",
    "    indexresult = []\n",
    "    \n",
    "    flag = False\n",
    "    for i in range(1,8):\n",
    "    # row(* 1 2 3 4 5 6 7)\n",
    "        for j in range(8):\n",
    "        # column(0 1 2 3 4 5 6 7)\n",
    "            if nowState[i][j] == 1:\n",
    "                \n",
    "                # jump to left\n",
    "                if (i > 1 and j > 1) and nowState[i-1][j-1] < 0:\n",
    "                    if (i == 2 and nowState[i-2][j-2] >= 0) or (i > 2 and nowState[i-2][j-2]==0):\n",
    "                        newState = copy.deepcopy(nowState)\n",
    "                        newState[i][j] = 0\n",
    "                        newState[i-1][j-1] = 0\n",
    "                        newState[i-2][j-2] = newState[i-2][j-2] + 1\n",
    "                        result.append(newState)\n",
    "                        indexresult.append([nodeindex,dic[i]+str(j+1)+'-'+dic[i-2]+str(j+1-2),-1,\"\"])\n",
    "                        flag = True\n",
    "                        # print \"j t l\"\n",
    "                        \n",
    "                # jump to right\n",
    "                if (i > 1 and j < 6 ) and nowState[i-1][j+1] < 0:\n",
    "                    if (i == 2 and nowState[i-2][j+2] >= 0) or (i > 2 and nowState[i-2][j+2]==0):\n",
    "                        newState = copy.deepcopy(nowState)\n",
    "                        newState[i][j] = 0\n",
    "                        newState[i-1][j+1] = 0\n",
    "                        newState[i-2][j+2] = newState[i-2][j+2] + 1\n",
    "                        result.append(newState)\n",
    "                        indexresult.append([nodeindex,dic[i]+str(j+1)+'-'+dic[i-2]+str(j+1+2),-1,\"\"])\n",
    "                        flag = True\n",
    "                        # print \"j t l\"\n",
    "                        \n",
    "                # move to left\n",
    "                if (i > 0 and j > 0):\n",
    "                    if (i == 1 and nowState[i-1][j-1] >= 0 ) or (i > 1 and nowState[i-1][j-1]==0 ):\n",
    "                        newState = copy.deepcopy(nowState)\n",
    "                        newState[i][j] = 0\n",
    "                        newState[i-1][j-1] = newState[i-1][j-1] + 1\n",
    "                        result.append(newState)\n",
    "                        indexresult.append([nodeindex,dic[i]+str(j+1)+'-'+dic[i-1]+str(j+1-1),-1,\"\"])\n",
    "                        flag = True\n",
    "                        # print \"m t l\"\n",
    "                        \n",
    "                # move to right\n",
    "                if (i > 0 and j < 7 ):\n",
    "                    if (i == 1 and nowState[i-1][j+1] >= 0 ) or (i > 1 and nowState[i-1][j+1]==0 ):\n",
    "                        newState = copy.deepcopy(nowState)\n",
    "                        newState[i][j] = 0\n",
    "                        newState[i-1][j+1] = newState[i-1][j+1] + 1\n",
    "                        result.append(newState)\n",
    "                        indexresult.append([nodeindex,dic[i]+str(j+1)+'-'+dic[i-1]+str(j+1+1),-1,\"\"])\n",
    "                        flag = True\n",
    "                        # print \"m t r\"\n",
    "    # pass\n",
    "    if not flag:\n",
    "        result.append(nowState)\n",
    "        indexresult.append([nodeindex,\"pass\",-1,\"\"])\n",
    "    return result,indexresult\n",
    "\n",
    "# result = starMove(nowState)\n",
    "# for i in result:\n",
    "#     display(i)\n",
    "#     print \" \""
   ]
  },
  {
   "cell_type": "code",
   "execution_count": 7,
   "metadata": {
    "collapsed": true
   },
   "outputs": [],
   "source": [
    "def circleMove(nowState,nodeindex):\n",
    "    result = []\n",
    "    indexresult = []\n",
    "    \n",
    "    flag = False\n",
    "    for i in range(0,7):\n",
    "    # row(0 1 2 3 4 5 6 *)\n",
    "        for j in range(8):\n",
    "        # column(0 1 2 3 4 5 6 7)\n",
    "            if nowState[i][j] == -1:\n",
    "                        \n",
    "                # move to left\n",
    "                if (i < 7 and j > 0):\n",
    "                    if (i == 6 and nowState[i+1][j-1] <= 0 ) or (i < 6 and nowState[i+1][j-1]==0 ):\n",
    "                        newState = copy.deepcopy(nowState)\n",
    "                        newState[i][j] = 0\n",
    "                        newState[i+1][j-1] = newState[i+1][j-1] - 1\n",
    "                        result.append(newState)\n",
    "                        indexresult.append([nodeindex,dic[i]+str(j+1)+'-'+dic[i+1]+str(j+1-1),-1,\"\"])\n",
    "                        flag = True\n",
    "                        # print \"m t l\"\n",
    "                # move to right\n",
    "                if (i < 7 and j < 7 ):\n",
    "                    if (i == 6 and nowState[i+1][j+1] <= 0 ) or (i < 6 and nowState[i+1][j+1]==0 ):\n",
    "                        newState = copy.deepcopy(nowState)\n",
    "                        newState[i][j] = 0\n",
    "                        newState[i+1][j+1] = newState[i+1][j+1] - 1\n",
    "                        result.append(newState)\n",
    "                        indexresult.append([nodeindex,dic[i]+str(j+1)+'-'+dic[i+1]+str(j+1+1),-1,\"\"])\n",
    "                        flag = True\n",
    "                        # print \"m t r\"\n",
    "                # jump to left\n",
    "                if (i < 6 and j > 1) and nowState[i+1][j-1] > 0:\n",
    "                    if (i == 5 and nowState[i+2][j-2] <= 0) or (i < 5 and nowState[i+2][j-2]==0):\n",
    "                        newState = copy.deepcopy(nowState)\n",
    "                        newState[i][j] = 0\n",
    "                        newState[i+1][j-1] = 0\n",
    "                        newState[i+2][j-2] = newState[i+2][j-2] - 1\n",
    "                        result.append(newState)\n",
    "                        indexresult.append([nodeindex,dic[i]+str(j+1)+'-'+dic[i+2]+str(j+1-2),-1,\"\"])\n",
    "                        flag = True\n",
    "                        # print \"j t l\"\n",
    "                # jump to right\n",
    "                if (i < 6 and j < 6 ) and nowState[i+1][j+1] > 0:\n",
    "                    if (i == 5 and nowState[i+2][j+2] <= 0) or (i < 5 and nowState[i+2][j+2]==0):\n",
    "                        newState = copy.deepcopy(nowState)\n",
    "                        newState[i][j] = 0\n",
    "                        newState[i+1][j+1] = 0\n",
    "                        newState[i+2][j+2] = newState[i+2][j+2] - 1\n",
    "                        result.append(newState)\n",
    "                        indexresult.append([nodeindex,dic[i]+str(j+1)+'-'+dic[i+2]+str(j+1+2),-1,\"\"])\n",
    "                        flag = True\n",
    "                        # print \"j t l\"\n",
    "    # pass\n",
    "    if not flag:\n",
    "        result.append(nowState)\n",
    "        indexresult.append([nodeindex,\"pass\",-1,\"\"])\n",
    "    return result,indexresult\n",
    "\n",
    "# result = circleMove(nowState)\n",
    "# for i in result:\n",
    "#     display(i)\n",
    "#     print \" \""
   ]
  },
  {
   "cell_type": "markdown",
   "metadata": {},
   "source": [
    "## Readfile"
   ]
  },
  {
   "cell_type": "code",
   "execution_count": 8,
   "metadata": {
    "collapsed": true
   },
   "outputs": [],
   "source": [
    "def utilfunc(inputstr):\n",
    "    if inputstr[0]==\"0\":\n",
    "        return 0\n",
    "    if inputstr[0]==\"S\":\n",
    "        return int(inputstr[1:])\n",
    "    if inputstr[0]==\"C\":\n",
    "        return -1*int(inputstr[1:])"
   ]
  },
  {
   "cell_type": "code",
   "execution_count": 9,
   "metadata": {
    "collapsed": true
   },
   "outputs": [],
   "source": [
    "with open(inputfile) as file:\n",
    "    whoStartFirst = 1 if file.readline()[:-1]==\"Star\" else -1\n",
    "    # whoStartFirst 1:Star -1:Circle\n",
    "    whichMethod = 1 if file.readline()[:-1]==\"ALPHABETA\" else 0\n",
    "    # whichMethod 1:Alphabeta 0:minimax\n",
    "    maxDepth = int(file.readline())\n",
    "    nowState = []\n",
    "    for i in range(8):\n",
    "        row = [utilfunc(x) for x in file.readline().split(',')]\n",
    "        nowState.append(row)\n",
    "    rowValue = [int(x) for x in file.readline().split(',')]\n"
   ]
  },
  {
   "cell_type": "code",
   "execution_count": 10,
   "metadata": {},
   "outputs": [
    {
     "name": "stdout",
     "output_type": "stream",
     "text": [
      "whoStartFirst:  1\n",
      "whichMethod:  0\n",
      "maxDepth:  9\n",
      "rowValue:  [10, 20, 30, 40, 50, 60, 70, 80]\n",
      "nowState: \n",
      "[0, 1, 0, 0, 0, 0, 0, 0]\n",
      "[1, 0, 0, 0, 0, 0, 0, 0]\n",
      "[0, 0, 0, 0, 0, 0, 0, -1]\n",
      "[0, 0, 0, 0, 0, 0, 0, 0]\n",
      "[0, 0, 0, 0, 0, 0, 0, 0]\n",
      "[0, 0, 0, 0, 0, 0, 0, 0]\n",
      "[0, 0, 0, 0, 0, 0, 0, 0]\n",
      "[0, 0, 0, 0, 0, 0, 0, 0]\n"
     ]
    }
   ],
   "source": [
    "print \"whoStartFirst: \",whoStartFirst\n",
    "print \"whichMethod: \",whichMethod\n",
    "print \"maxDepth: \",maxDepth\n",
    "print \"rowValue: \",rowValue\n",
    "print \"nowState: \"\n",
    "def displayState(State):\n",
    "    for i in State:\n",
    "        print i\n",
    "displayState(nowState)\n",
    "# display(starMove(nowState))"
   ]
  },
  {
   "cell_type": "markdown",
   "metadata": {},
   "source": [
    "# After that"
   ]
  },
  {
   "cell_type": "markdown",
   "metadata": {},
   "source": [
    "## forward calculate"
   ]
  },
  {
   "cell_type": "code",
   "execution_count": 13,
   "metadata": {},
   "outputs": [
    {
     "name": "stdout",
     "output_type": "stream",
     "text": [
      "[[], [], [], [], [], [], [], [], [], []]\n",
      "[[-1, '', -1, '']]\n",
      "[[0, 'G1-H2', -1, '']]\n",
      "[[0, 'F8-E7', -1, '']]\n",
      "[[0, 'pass', -1, '']]\n",
      "[[0, 'E7-D6', -1, ''], [0, 'E7-D8', -1, '']]\n",
      "[[0, 'pass', -1, ''], [1, 'pass', -1, '']]\n",
      "[[0, 'D6-C5', -1, ''], [0, 'D6-C7', -1, ''], [1, 'D8-C7', -1, '']]\n",
      "[[0, 'pass', -1, ''], [1, 'pass', -1, ''], [2, 'pass', -1, '']]\n",
      "[[0, 'C5-B4', -1, ''], [0, 'C5-B6', -1, ''], [1, 'C7-B6', -1, ''], [1, 'C7-B8', -1, ''], [2, 'C7-B6', -1, ''], [2, 'C7-B8', -1, '']]\n",
      "[[0, 'pass', -1, ''], [1, 'pass', -1, ''], [2, 'pass', -1, ''], [3, 'pass', -1, ''], [4, 'pass', -1, ''], [5, 'pass', -1, '']]\n",
      "CPU times: user 3.3 ms, sys: 2.11 ms, total: 5.42 ms\n",
      "Wall time: 3.52 ms\n"
     ]
    }
   ],
   "source": [
    "%%time\n",
    "#initial tree and indextree\n",
    "tree = []\n",
    "indextree = []\n",
    "for i in range(maxDepth+1):\n",
    "    tree.append([])\n",
    "    indextree.append([])\n",
    "print tree\n",
    "tree[0] = [nowState]\n",
    "indextree[0].append([-1,\"\",-1,\"\"])\n",
    "# fatherindex, stepinfo , utilityvalue\n",
    "\n",
    "for i in range(maxDepth):\n",
    "    if whoStartFirst == 1:\n",
    "    #starmove first\n",
    "        if i%2 == 0:\n",
    "            for j in range(len(tree[i])):\n",
    "                if gameend(tree[i][j]):\n",
    "                    faterindex = indextree[i][j][0]\n",
    "                    if not(indextree[i][j][1]==\"pass\" and i>=1 and indextree[i-1][faterindex][1]==\"pass\"):\n",
    "                        arr1,arr2=starMove(tree[i][j],j)\n",
    "                        tree[i+1].extend(arr1)\n",
    "                        indextree[i+1].extend(arr2)\n",
    "        if i%2 == 1:\n",
    "            for j in range(len(tree[i])):\n",
    "                if gameend(tree[i][j]):\n",
    "                    faterindex = indextree[i][j][0]\n",
    "                    if not(indextree[i][j][1]==\"pass\" and i>=1 and indextree[i-1][faterindex][1]==\"pass\"):\n",
    "                        arr1,arr2=circleMove(tree[i][j],j)\n",
    "                        tree[i+1].extend(arr1)\n",
    "                        indextree[i+1].extend(arr2)\n",
    "    else:\n",
    "    #circlemove first\n",
    "        if i%2 == 0:\n",
    "            for j in range(len(tree[i])):\n",
    "                if gameend(tree[i][j]):\n",
    "                    faterindex = indextree[i][j][0]\n",
    "                    if not(indextree[i][j][1]==\"pass\" and i>=1 and indextree[i-1][faterindex][1]==\"pass\"):\n",
    "                        arr1,arr2=circleMove(tree[i][j],j)\n",
    "                        tree[i+1].extend(arr1)\n",
    "                        indextree[i+1].extend(arr2)\n",
    "        if i%2 == 1:\n",
    "            for j in range(len(tree[i])):\n",
    "                if gameend(tree[i][j]):\n",
    "                    faterindex = indextree[i][j][0]\n",
    "                    if not(indextree[i][j][1]==\"pass\" and i>=1 and indextree[i-1][faterindex][1]==\"pass\"):\n",
    "                        arr1,arr2=starMove(tree[i][j],j)\n",
    "                        tree[i+1].extend(arr1)\n",
    "                        indextree[i+1].extend(arr2)\n",
    "\n",
    "for i in range(maxDepth+1):\n",
    "#     display(tree[i])\n",
    "    print indextree[i]\n"
   ]
  },
  {
   "cell_type": "markdown",
   "metadata": {},
   "source": [
    "## backward calculate\n",
    "![backward](./12.jpeg)"
   ]
  },
  {
   "cell_type": "code",
   "execution_count": 14,
   "metadata": {},
   "outputs": [
    {
     "name": "stdout",
     "output_type": "stream",
     "text": [
      "[[0, 'pass', 90, ''], [1, 'pass', 90, ''], [2, 'pass', 90, ''], [3, 'pass', 90, ''], [4, 'pass', 90, ''], [5, 'pass', 90, '']]\n",
      "[[0, 'C5-B4', -1, ''], [0, 'C5-B6', -1, ''], [1, 'C7-B6', -1, ''], [1, 'C7-B8', -1, ''], [2, 'C7-B6', -1, ''], [2, 'C7-B8', -1, '']]\n",
      "[[0, 'pass', -1, ''], [1, 'pass', -1, ''], [2, 'pass', -1, '']]\n",
      "[[0, 'D6-C5', -1, ''], [0, 'D6-C7', -1, ''], [1, 'D8-C7', -1, '']]\n",
      "[[0, 'pass', -1, ''], [1, 'pass', -1, '']]\n",
      "[[0, 'E7-D6', -1, ''], [0, 'E7-D8', -1, '']]\n",
      "[[0, 'pass', -1, '']]\n",
      "[[0, 'F8-E7', -1, '']]\n",
      "[[0, 'G1-H2', -1, '']]\n",
      "[[-1, '', -1, '']]\n"
     ]
    }
   ],
   "source": [
    "# initial\n",
    "while(len(indextree[maxDepth])==0):\n",
    "    maxDepth = maxDepth -1\n",
    "for i in range(len(indextree[maxDepth])):\n",
    "    if whoStartFirst == 1:\n",
    "        indextree[maxDepth][i][2] = countUtilityForStar(tree[maxDepth][i],rowValue)\n",
    "    else:\n",
    "        indextree[maxDepth][i][2] = countUtilityForCircle(tree[maxDepth][i],rowValue)\n",
    "for i in reversed(range(maxDepth+1)):\n",
    "    print indextree[i]"
   ]
  },
  {
   "cell_type": "markdown",
   "metadata": {},
   "source": [
    "### minimax"
   ]
  },
  {
   "cell_type": "code",
   "execution_count": 15,
   "metadata": {},
   "outputs": [
    {
     "name": "stdout",
     "output_type": "stream",
     "text": [
      "[[0, 'pass', 90, ''], [1, 'pass', 90, ''], [2, 'pass', 90, ''], [3, 'pass', 90, ''], [4, 'pass', 90, ''], [5, 'pass', 90, '']]\n",
      "[[0, 'C5-B4', 90, 'pass'], [0, 'C5-B6', 90, 'pass'], [1, 'C7-B6', 90, 'pass'], [1, 'C7-B8', 90, 'pass'], [2, 'C7-B6', 90, 'pass'], [2, 'C7-B8', 90, 'pass']]\n",
      "[[0, 'pass', 90, 'C5-B4 pass'], [1, 'pass', 90, 'C7-B6 pass'], [2, 'pass', 90, 'C7-B6 pass']]\n",
      "[[0, 'D6-C5', 90, 'pass C5-B4 pass'], [0, 'D6-C7', 90, 'pass C7-B6 pass'], [1, 'D8-C7', 90, 'pass C7-B6 pass']]\n",
      "[[0, 'pass', 90, 'D6-C5 pass C5-B4 pass'], [1, 'pass', 90, 'D8-C7 pass C7-B6 pass']]\n",
      "[[0, 'E7-D6', 90, 'pass D6-C5 pass C5-B4 pass'], [0, 'E7-D8', 90, 'pass D8-C7 pass C7-B6 pass']]\n",
      "[[0, 'pass', 90, 'E7-D6 pass D6-C5 pass C5-B4 pass']]\n",
      "[[0, 'F8-E7', 90, 'pass E7-D6 pass D6-C5 pass C5-B4 pass']]\n",
      "[[0, 'G1-H2', 90, 'F8-E7 pass E7-D6 pass D6-C5 pass C5-B4 pass']]\n",
      "[[-1, '', 90, 'G1-H2 F8-E7 pass E7-D6 pass D6-C5 pass C5-B4 pass']]\n",
      "========我是分割线=======\n",
      "G1-H2\n",
      "130\n",
      "90\n",
      "26\n",
      "CPU times: user 1.47 ms, sys: 1.92 ms, total: 3.39 ms\n",
      "Wall time: 1.88 ms\n"
     ]
    }
   ],
   "source": [
    "%%time\n",
    "if whichMethod == 0:\n",
    "# minimax\n",
    "    for i in reversed(range(1,maxDepth+1)):\n",
    "        if i%2 == 0:\n",
    "            #min step\n",
    "            for node in indextree[i]:\n",
    "                previousIndex = node[0]\n",
    "                if (node[2] < indextree[i-1][previousIndex][2]) or (indextree[i-1][previousIndex][2] == -1):\n",
    "                    indextree[i-1][previousIndex][2] = node[2]\n",
    "                    indextree[i-1][previousIndex][3] = node[1]+\" \"+node[3] if node[3]!=\"\" else node[1]\n",
    "\n",
    "            for j in range(len(indextree[i-1])):\n",
    "                if indextree[i-1][j][2] == -1:\n",
    "                    if whoStartFirst == 1:\n",
    "                        indextree[i-1][j][2] = countUtilityForStar(tree[i-1][j],rowValue)\n",
    "                    else:\n",
    "                        indextree[i-1][j][2] = countUtilityForCircle(tree[i-1][j],rowValue)\n",
    "        # 从第i层的所有节点反向传播 使得所有i-1层节点有值\n",
    "        \n",
    "        if i%2 == 1:\n",
    "            #max step\n",
    "            for node in indextree[i]:\n",
    "                previousIndex = node[0]\n",
    "                if node[2] > indextree[i-1][previousIndex][2]:\n",
    "                    indextree[i-1][previousIndex][2] = node[2]\n",
    "                    indextree[i-1][previousIndex][3] = node[1]+\" \"+node[3] if node[3]!=\"\" else node[1]\n",
    "                    \n",
    "            for j in range(len(indextree[i-1])):\n",
    "                if indextree[i-1][j][2] == -1:\n",
    "                    if whoStartFirst == 1:\n",
    "                        indextree[i-1][j][2] = countUtilityForStar(tree[i-1][j],rowValue)\n",
    "                    else:\n",
    "                        indextree[i-1][j][2] = countUtilityForCircle(tree[i-1][j],rowValue)\n",
    "    nodecount = 0\n",
    "    for i in range(maxDepth+1):\n",
    "        nodecount = nodecount + len(indextree[i])\n",
    "    \n",
    "    for i in reversed(range(maxDepth+1)):\n",
    "        print indextree[i]   \n",
    "\n",
    "    print \"========我是分割线=======\"\n",
    "    nextstep = max(indextree[1],key = lambda x : x[2])\n",
    "    indexofnextstep = indextree[1].index(nextstep)\n",
    "    print nextstep[1]\n",
    "    nextutility = countUtilityForStar(tree[1][indexofnextstep],rowValue) if (whoStartFirst == 1) else countUtilityForCircle(tree[1][indexofnextstep],rowValue)\n",
    "    print nextutility\n",
    "    print nextstep[2]\n",
    "    print nodecount\n",
    "    with open(\"output.txt\",\"w\") as outputfile:\n",
    "        outputstr = [nextstep[1],'\\n',str(nextutility),'\\n',str(nextstep[2]),'\\n',str(nodecount) ]\n",
    "        outputfile.writelines(outputstr)\n",
    "        \n",
    "    # next move\n",
    "    # myopic utility\n",
    "    # farsighted utility\n",
    "    # number of nodes"
   ]
  },
  {
   "cell_type": "markdown",
   "metadata": {},
   "source": [
    "### alphabeta\n",
    "![alphabetaimage](./13.png)"
   ]
  },
  {
   "cell_type": "code",
   "execution_count": 12,
   "metadata": {
    "collapsed": true
   },
   "outputs": [],
   "source": [
    "if whichMethod == 1:\n",
    "# alphabeta\n",
    "    for i in reversed(range(1,maxDepth+1)):\n",
    "        if i%2 == 0:\n",
    "            #min step\n",
    "            for node in indextree[i]:\n",
    "                previousIndex = node[0]\n",
    "                if (node[2] < indextree[i-1][previousIndex][2]) or (indextree[i-1][previousIndex][2] == -1):\n",
    "                    indextree[i-1][previousIndex][2] = node[2]\n",
    "                    indextree[i-1][previousIndex][3] = node[1]+\" \"+node[3] if node[3]!=\"\" else node[1]\n",
    "            for j in range(len(indextree[i-1])):\n",
    "                if indextree[i-1][j][2] == -1:\n",
    "                    if whoStartFirst == 1:\n",
    "                        indextree[i-1][j][2] = countUtilityForStar(tree[i-1][j],rowValue)\n",
    "                    else:\n",
    "                        indextree[i-1][j][2] = countUtilityForCircle(tree[i-1][j],rowValue)\n",
    "        # 从第i层的所有节点反向传播 使得所有i-1层节点有值\n",
    "        if i%2 == 1:\n",
    "            #max step\n",
    "            for node in indextree[i]:\n",
    "                previousIndex = node[0]\n",
    "                if node[2] > indextree[i-1][previousIndex][2]:\n",
    "                    indextree[i-1][previousIndex][2] = node[2]\n",
    "                    indextree[i-1][previousIndex][3] = node[1]+\" \"+node[3] if node[3]!=\"\" else node[1]               \n",
    "            for j in range(len(indextree[i-1])):\n",
    "                if indextree[i-1][j][2] == -1:\n",
    "                    if whoStartFirst == 1:\n",
    "                        indextree[i-1][j][2] = countUtilityForStar(tree[i-1][j],rowValue)\n",
    "                    else:\n",
    "                        indextree[i-1][j][2] = countUtilityForCircle(tree[i-1][j],rowValue)\n",
    "    \n",
    "#     nodecount = 0\n",
    "#     for i in range(maxDepth-1):\n",
    "#         previousindex = -1\n",
    "#         firstindex = []\n",
    "#         for node in indextree[i+1]:\n",
    "#             if node[0]!= previousindex:\n",
    "#                 previousindex = node[0]\n",
    "#                 firstindex.append(node)\n",
    "# maxDepth = 2\n",
    "# indextree=[[],[],[]]\n",
    "# indextree[0]=[[-1,\"a\",8]]\n",
    "# indextree[1]=[[0,\"b\",10],[0,\"c\",8],[0,\"d\",9]]\n",
    "# indextree[2]=[[0,\"e\",5],[0,\"f\",10],[0,\"g\",7],[1,\"h\",6],[1,\"i\",8],[1,\"j\",6],[2,\"k\",5],[2,\"l\",2],[2,\"m\",9]]\n",
    "\n",
    "    count = 0\n",
    "\n",
    "    for i in range(maxDepth-1):\n",
    "        if i%2 == 0:\n",
    "        # max of min step\n",
    "            treelen1 = len(indextree[i+1])\n",
    "            treelen2 = len(indextree[i+2])\n",
    "            firstindex1 = []\n",
    "            firstindex2 = []\n",
    "\n",
    "            previousindex = -1\n",
    "            for x in range(treelen1):\n",
    "                # print previousindex\n",
    "                if indextree[i+1][x][0]!= previousindex:\n",
    "                    previousindex = indextree[i+1][x][0]\n",
    "                    firstindex1.append(x)\n",
    "            print firstindex1\n",
    "\n",
    "            previousindex = -1\n",
    "            for x in range(treelen2):\n",
    "                # print previousindex\n",
    "                if indextree[i+2][x][0]!= previousindex:\n",
    "                    previousindex = indextree[i+2][x][0]\n",
    "                    firstindex2.append(x)\n",
    "            print firstindex2\n",
    "\n",
    "            minvalue = -1\n",
    "            dirtyflag = 0\n",
    "            for node in indextree[i+2]:\n",
    "                print \"minvalue\",minvalue,\"indexvalue\",node[2],\"dirtyflag\",dirtyflag\n",
    "                if indextree[i+2].index(node) in firstindex2:\n",
    "                    dirtyflag = 0\n",
    "                if node[0] in firstindex1:\n",
    "                    minvalue = indextree[i+1][node[0]][2]\n",
    "                    count = count + 1\n",
    "                else:\n",
    "                    minvalue = minvalue if (minvalue > indextree[i+1][node[0]-1][2]) else indextree[i+1][node[0]-1][2]\n",
    "                    if node[2] >= minvalue and dirtyflag == 0:\n",
    "                        count = count + 1\n",
    "                    elif node[2] < minvalue and dirtyflag == 0:\n",
    "                        count = count + 1\n",
    "                        dirtyflag = 1\n",
    "                    else:\n",
    "                        node[3]=\"dirty\"\n",
    "                # print \"nodecount\",count\n",
    "        else:\n",
    "        # min of max step\n",
    "            treelen1 = len(indextree[i+1])\n",
    "            treelen2 = len(indextree[i+2])\n",
    "            firstindex1 = []\n",
    "            firstindex2 = []\n",
    "\n",
    "            previousindex = -1\n",
    "            for x in range(treelen1):\n",
    "                # print previousindex\n",
    "                if indextree[i+1][x][0]!= previousindex:\n",
    "                    previousindex = indextree[i+1][x][0]\n",
    "                    firstindex1.append(x)\n",
    "            print firstindex1\n",
    "\n",
    "            previousindex = -1\n",
    "            for x in range(treelen2):\n",
    "                # print previousindex\n",
    "                if indextree[i+2][x][0]!= previousindex:\n",
    "                    previousindex = indextree[i+2][x][0]\n",
    "                    firstindex2.append(x)\n",
    "            print firstindex2\n",
    "\n",
    "            maxvalue = -1\n",
    "            dirtyflag = 0\n",
    "            for node in indextree[i+2]:\n",
    "                # print \"maxvalue\",maxvalue,\"indexvalue\",node[2],\"dirtyflag\",dirtyflag\n",
    "                if indextree[i+2].index(node) in firstindex2:\n",
    "                    dirtyflag = 0\n",
    "                if node[0] in firstindex1:\n",
    "                    maxvalue = indextree[i+1][node[0]][2]\n",
    "                    count = count + 1\n",
    "                else:\n",
    "                    maxvalue = maxvalue if (maxvalue < indextree[i+1][node[0]-1][2]) else indextree[i+1][node[0]-1][2]\n",
    "                    if node[2] <= maxvalue and dirtyflag == 0:\n",
    "                        count = count + 1\n",
    "                    elif node[2] > maxvalue and dirtyflag == 0:\n",
    "                        count = count + 1\n",
    "                        dirtyflag = 1\n",
    "                    else:\n",
    "                        node[3]=\"dirty\"\n",
    "                # print \"nodecount\",count\n",
    "    # print count+1+len(indextree[1])\n",
    "#     for i in range(0,1):\n",
    "#         lentree0 = len(indextree[i])\n",
    "#         countgraph = []\n",
    "#         for a in range(lentree0):\n",
    "#             countgraph.append([ x[2] for x in indextree[i+1] if x[0]==a ])\n",
    "#         if \n",
    "#     print countgraph\n",
    "    \n",
    "    for i in reversed(range(maxDepth+1)):\n",
    "        print indextree[i]   \n",
    "    print \"========我是分割线=======\"\n",
    "    nextstep = max(indextree[1],key = lambda x : x[2])\n",
    "    indexofnextstep = indextree[1].index(nextstep)\n",
    "    print nextstep[1]\n",
    "    nextutility = countUtilityForStar(tree[1][indexofnextstep],rowValue) if (whoStartFirst == 1) else countUtilityForCircle(tree[1][indexofnextstep],rowValue)\n",
    "    print nextutility\n",
    "    print nextstep[2]\n",
    "    nodecount = count+1+len(indextree[1])\n",
    "    print nodecount\n",
    "    with open(\"output.txt\",\"w\") as outputfile:\n",
    "        outputstr = [nextstep[1],'\\n',str(nextutility),'\\n',str(nextstep[2]),'\\n',str(nodecount) ]\n",
    "        outputfile.writelines(outputstr)\n",
    "        \n",
    "    # next move\n",
    "    # myopic utility\n",
    "    # farsighted utility\n",
    "    # number of nodes"
   ]
  },
  {
   "cell_type": "markdown",
   "metadata": {},
   "source": [
    "$$(w^Tx)^T = (x^Tw) $$"
   ]
  },
  {
   "cell_type": "markdown",
   "metadata": {},
   "source": [
    "# issues\n",
    "\n",
    "#### finished\n",
    "+ 游戏结束？\n",
    "+ alpha beta alg\n",
    "+ circle 开始 重写。\n",
    "+ 第五样例有错\n",
    "---------------\n",
    "[to top](#CSCI-561-Homework-1st)\n"
   ]
  },
  {
   "cell_type": "code",
   "execution_count": 19,
   "metadata": {},
   "outputs": [
    {
     "data": {
      "text/plain": [
       "{'Apple_PubSub_Socket_Render': '/private/tmp/com.apple.launchd.f9Ue9dLbbe/Render',\n",
       " 'CLICOLOR': '1',\n",
       " 'GIT_PAGER': 'cat',\n",
       " 'HOME': '/Users/shixiangyang',\n",
       " 'JPY_PARENT_PID': '19100',\n",
       " 'LANG': 'zh_CN.UTF-8',\n",
       " 'LOGNAME': 'shixiangyang',\n",
       " 'MPLBACKEND': 'module://ipykernel.pylab.backend_inline',\n",
       " 'OLDPWD': '/Users/shixiangyang/Downloads',\n",
       " 'PAGER': 'cat',\n",
       " 'PATH': '/Users/shixiangyang/anaconda2/bin:/Users/shixiangyang/anaconda2/bin:/usr/local/bin:/usr/bin:/bin:/usr/sbin:/sbin:/Library/TeX/texbin',\n",
       " 'PWD': '/Users/shixiangyang/Downloads/sample test cases',\n",
       " 'SECURITYSESSIONID': '186a8',\n",
       " 'SHELL': '/bin/bash',\n",
       " 'SHLVL': '2',\n",
       " 'SSH_AUTH_SOCK': '/private/tmp/com.apple.launchd.J3eAuk8VvD/Listeners',\n",
       " 'TERM': 'xterm-color',\n",
       " 'TERM_PROGRAM': 'Apple_Terminal',\n",
       " 'TERM_PROGRAM_VERSION': '400',\n",
       " 'TERM_SESSION_ID': '2A1D3E94-F49A-495E-963B-DEC21804327D',\n",
       " 'TMPDIR': '/var/folders/vm/17qbfzs90530v4hwbk284klm0000gn/T/',\n",
       " 'USER': 'shixiangyang',\n",
       " 'XPC_FLAGS': '0x0',\n",
       " 'XPC_SERVICE_NAME': '0',\n",
       " '_': '/Users/shixiangyang/anaconda2/bin/jupyter',\n",
       " '__CF_USER_TEXT_ENCODING': '0x1F5:0x19:0x34'}"
      ]
     },
     "execution_count": 19,
     "metadata": {},
     "output_type": "execute_result"
    }
   ],
   "source": [
    "%env"
   ]
  },
  {
   "cell_type": "code",
   "execution_count": 20,
   "metadata": {},
   "outputs": [
    {
     "data": {
      "text/plain": [
       "'shixiangyang'"
      ]
     },
     "execution_count": 20,
     "metadata": {},
     "output_type": "execute_result"
    }
   ],
   "source": [
    "a= %env\n",
    "a['USER']"
   ]
  },
  {
   "cell_type": "code",
   "execution_count": 21,
   "metadata": {},
   "outputs": [
    {
     "data": {
      "text/plain": [
       "'shixiangyang'"
      ]
     },
     "execution_count": 21,
     "metadata": {},
     "output_type": "execute_result"
    }
   ],
   "source": [
    "_"
   ]
  },
  {
   "cell_type": "code",
   "execution_count": 22,
   "metadata": {},
   "outputs": [
    {
     "data": {
      "text/plain": [
       "'shixiangyang'"
      ]
     },
     "execution_count": 22,
     "metadata": {},
     "output_type": "execute_result"
    }
   ],
   "source": [
    "__"
   ]
  },
  {
   "cell_type": "code",
   "execution_count": null,
   "metadata": {},
   "outputs": [],
   "source": [
    "# %load testtesttest.py\n",
    "def util(a):\n",
    "\tif a[0]==\"0\":\n",
    "\t\treturn 0\n",
    "\tval = int(a[1])\n",
    "\tif a[0]==\"S\":\n",
    "\t\treturn val\n",
    "\telif a[0]==\"C\":\n",
    "\t\treturn -val\n",
    "\telse:\n",
    "\t\treturn 0\n",
    "qipan = []\n",
    "with open('input1.txt') as file:\n",
    "\tfor i in range(3):\n",
    "\t\tfile.readline()\n",
    "\ta= file.readline()\n",
    "\tprint a\n",
    "\tb = a.split(',')\n",
    "\tprint b\n",
    "\trow = []\n",
    "\tfor i in b:\n",
    "\t\trow.append(util(i))\n",
    "\tprint row\n",
    "\tqipan.append(row)\n",
    "\tqipan.append(row)\n",
    "\n",
    "print qipan\n",
    "print qipan[0][1]\n"
   ]
  },
  {
   "cell_type": "markdown",
   "metadata": {},
   "source": [
    "# hello\n",
    "<br />\n",
    "$$A^TX$$\n",
    "<br />\n"
   ]
  },
  {
   "cell_type": "code",
   "execution_count": 15,
   "metadata": {},
   "outputs": [
    {
     "name": "stdout",
     "output_type": "stream",
     "text": [
      "/Users/shixiangyang/Desktop/hw1\n",
      "11.jpg                         hw1cs561s2018.py\n",
      "12.jpeg                        input.txt\n",
      "13.png                         input1.txt\n",
      "14.jpeg                        input2.txt\n",
      "\u001b[31m561_HW1(2).ipynb\u001b[m\u001b[m               input3.txt\n",
      "\u001b[31m561_HW1.ipynb\u001b[m\u001b[m                  input4.txt\n",
      "AI Spring 2018 Lecture 5&6.pdf input5.txt\n",
      "HW1.pdf                        output.txt\n",
      "Homework 2version-Copy1.ipynb  output1.txt\n",
      "Homework 2version.ipynb        output2.txt\n",
      "Icon?                          output3.txt\n",
      "Untitled.ipynb                 output4.txt\n",
      "Untitled1.ipynb                output5.txt\n",
      "\u001b[31mbdlt.py\u001b[m\u001b[m                        testtesttest.py\n",
      "\u001b[34mclapmatch\u001b[m\u001b[m                      \u001b[34m未命名文件夹\u001b[m\u001b[m\n"
     ]
    }
   ],
   "source": [
    "!pwd\n",
    "!ls\n"
   ]
  },
  {
   "cell_type": "code",
   "execution_count": null,
   "metadata": {},
   "outputs": [],
   "source": []
  }
 ],
 "metadata": {
  "kernelspec": {
   "display_name": "Python 2",
   "language": "python",
   "name": "python2"
  },
  "language_info": {
   "codemirror_mode": {
    "name": "ipython",
    "version": 2
   },
   "file_extension": ".py",
   "mimetype": "text/x-python",
   "name": "python",
   "nbconvert_exporter": "python",
   "pygments_lexer": "ipython2",
   "version": "2.7.13"
  }
 },
 "nbformat": 4,
 "nbformat_minor": 2
}

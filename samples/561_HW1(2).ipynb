{
 "cells": [
  {
   "cell_type": "code",
   "execution_count": 1530,
   "metadata": {
    "collapsed": true
   },
   "outputs": [],
   "source": [
    "# Tree node\n",
    "class TreeNode(object):\n",
    "    def __init__(self, x, s_loc, c_loc, player, path):\n",
    "        self.val = x\n",
    "        self.s_loc = s_loc\n",
    "        self.c_loc = c_loc\n",
    "        self.child = []\n",
    "        self.player = player\n",
    "        self.path = path"
   ]
  },
  {
   "cell_type": "code",
   "execution_count": 1531,
   "metadata": {},
   "outputs": [],
   "source": [
    "# set up input file path\n",
    "\n",
    "file_obj = 'input1.txt'\n",
    "\n",
    "with open(file_obj) as input_file:\n",
    "    data = input_file.readlines()\n",
    "    weight = []\n",
    "    # retrieve weight list\n",
    "    for x in data[11].split(','):\n",
    "        weight.append(int(x))\n",
    "\n",
    "    # retrieve player\n",
    "    player = data[0][:-1]\n",
    "\n",
    "    # retrieve depth\n",
    "    depth = int(data[2][:-1])\n",
    "    \n",
    "    # retrieve location list\n",
    "    star = []\n",
    "    circle = []\n",
    "    for i in xrange(3, 11):\n",
    "        temp = data[i].split(',')\n",
    "        for idx in xrange(8):\n",
    "            if temp[idx][0] == 'S':\n",
    "                num = int(temp[idx][1:])\n",
    "                star.extend([str(i - 3) + str(idx)] * num)\n",
    "            elif temp[idx][0] == 'C':\n",
    "                num2 = int(temp[idx][1:])\n",
    "                circle.extend([str(i - 3) + str(idx)] * num2)"
   ]
  },
  {
   "cell_type": "code",
   "execution_count": 1532,
   "metadata": {},
   "outputs": [
    {
     "name": "stdout",
     "output_type": "stream",
     "text": [
      "['12']\n"
     ]
    }
   ],
   "source": [
    "root = TreeNode(None, star, circle, player, [None, None])\n",
    "print(root.c_loc)"
   ]
  },
  {
   "cell_type": "code",
   "execution_count": 1533,
   "metadata": {},
   "outputs": [
    {
     "name": "stdout",
     "output_type": "stream",
     "text": [
      "120\n"
     ]
    }
   ],
   "source": [
    "# evaluation function\n",
    "def evaluate(node, weight):\n",
    "    star_val = 0\n",
    "    for n in node.s_loc:\n",
    "        star_val += weight[-int(n[0]) - 1 ]\n",
    "    for n in node.c_loc:\n",
    "        star_val -= weight[int(n[0])]\n",
    "    return star_val\n",
    "print evaluate(root, weight)"
   ]
  },
  {
   "cell_type": "code",
   "execution_count": 1534,
   "metadata": {},
   "outputs": [],
   "source": [
    "def s_left(loc):\n",
    "    x = int(loc[0]) - 1\n",
    "    y = int(loc[1]) - 1\n",
    "    return str(x) + str(y)"
   ]
  },
  {
   "cell_type": "code",
   "execution_count": 1535,
   "metadata": {
    "collapsed": true
   },
   "outputs": [],
   "source": [
    "def c_left(loc):\n",
    "    x = int(loc[0]) + 1\n",
    "    y = int(loc[1]) - 1\n",
    "    return str(x) + str(y)"
   ]
  },
  {
   "cell_type": "code",
   "execution_count": 1536,
   "metadata": {
    "collapsed": true
   },
   "outputs": [],
   "source": [
    "def s_right(loc):\n",
    "    x = int(loc[0]) - 1\n",
    "    y = int(loc[1]) + 1\n",
    "    return str(x) + str(y)"
   ]
  },
  {
   "cell_type": "code",
   "execution_count": 1537,
   "metadata": {},
   "outputs": [],
   "source": [
    "def c_right(loc):\n",
    "    x = int(loc[0]) + 1\n",
    "    y = int(loc[1]) + 1\n",
    "    return str(x) + str(y)"
   ]
  },
  {
   "cell_type": "code",
   "execution_count": 1538,
   "metadata": {
    "collapsed": true
   },
   "outputs": [],
   "source": [
    "def s_db_left(loc):\n",
    "    x = int(loc[0]) - 2\n",
    "    y = int(loc[1]) - 2\n",
    "    return str(x) + str(y)"
   ]
  },
  {
   "cell_type": "code",
   "execution_count": 1539,
   "metadata": {
    "collapsed": true
   },
   "outputs": [],
   "source": [
    "def c_db_left(loc):\n",
    "    x = int(loc[0]) + 2\n",
    "    y = int(loc[1]) - 2\n",
    "    return str(x) + str(y)"
   ]
  },
  {
   "cell_type": "code",
   "execution_count": 1540,
   "metadata": {
    "collapsed": true
   },
   "outputs": [],
   "source": [
    "def s_db_right(loc):\n",
    "    x = int(loc[0]) - 2\n",
    "    y = int(loc[1]) + 2\n",
    "    return str(x) + str(y)"
   ]
  },
  {
   "cell_type": "code",
   "execution_count": 1541,
   "metadata": {
    "collapsed": true
   },
   "outputs": [],
   "source": [
    "def c_db_right(loc):\n",
    "    x = int(loc[0]) + 2\n",
    "    y = int(loc[1]) + 2\n",
    "    return str(x) + str(y)"
   ]
  },
  {
   "cell_type": "code",
   "execution_count": 1542,
   "metadata": {},
   "outputs": [],
   "source": [
    "#check the edge for star left jump\n",
    "def check_s_1j(s):\n",
    "    if 1 < int(s[0]) < 8 and 1 < int(s[1]) < 8 : return True\n",
    "    else: return False\n",
    "    "
   ]
  },
  {
   "cell_type": "code",
   "execution_count": 1543,
   "metadata": {
    "collapsed": true
   },
   "outputs": [],
   "source": [
    "#check the edge for star left walk\n",
    "def check_s_lw(s):\n",
    "    if 0 < int(s[0]) < 8 and 0 < int(s[1]) < 8 : return True\n",
    "    else: return False"
   ]
  },
  {
   "cell_type": "code",
   "execution_count": 1544,
   "metadata": {
    "collapsed": true
   },
   "outputs": [],
   "source": [
    "#check the edge for star right jump\n",
    "def check_s_rj(s):\n",
    "    if 1 < int(s[0]) < 8 and 0 <= int(s[1]) < 6 : return True\n",
    "    else: return False"
   ]
  },
  {
   "cell_type": "code",
   "execution_count": 1545,
   "metadata": {
    "collapsed": true
   },
   "outputs": [],
   "source": [
    "#check the edge for star right walk\n",
    "def check_s_rw(s):\n",
    "    if 0 < int(s[0]) < 8 and 0 <= int(s[1]) < 7 : return True\n",
    "    else: return False"
   ]
  },
  {
   "cell_type": "code",
   "execution_count": 1546,
   "metadata": {
    "collapsed": true
   },
   "outputs": [],
   "source": [
    "#check the edge for cir left walk\n",
    "def check_c_lw(s):\n",
    "    if 0 <= int(s[0]) < 7 and 0 < int(s[1]) < 8 : return True\n",
    "    else: return False"
   ]
  },
  {
   "cell_type": "code",
   "execution_count": 1547,
   "metadata": {
    "collapsed": true
   },
   "outputs": [],
   "source": [
    "#check the edge for cir left jump\n",
    "def check_c_1j(s):\n",
    "    if 0 <= int(s[0]) < 6 and 1 < int(s[1]) < 8 : return True\n",
    "    else: return False"
   ]
  },
  {
   "cell_type": "code",
   "execution_count": 1548,
   "metadata": {
    "collapsed": true
   },
   "outputs": [],
   "source": [
    "#check the edge for cir right walk\n",
    "def check_c_rw(s):\n",
    "    if 0 <= int(s[0]) < 7 and 0 <= int(s[1]) < 7 : return True\n",
    "    else: return False"
   ]
  },
  {
   "cell_type": "code",
   "execution_count": 1549,
   "metadata": {
    "collapsed": true
   },
   "outputs": [],
   "source": [
    "#check the edge for star right jump\n",
    "def check_c_rj(s):\n",
    "    if 0 <= int(s[0]) < 6 and 0 <= int(s[1]) < 6 : return True\n",
    "    else: return False"
   ]
  },
  {
   "cell_type": "code",
   "execution_count": 1550,
   "metadata": {},
   "outputs": [],
   "source": [
    "# node = TreeNode(None, ['45','26','54'], ['34','36'], player, [None, None])\n",
    "#star expand\n",
    "def expand_s(node):\n",
    "#     print (node.s_loc)\n",
    "    for s in node.s_loc:\n",
    "        #jump and eat: left\n",
    "        if check_s_1j(s) and s_left(s) in node.c_loc:\n",
    "            if s_db_left(s) not in node.c_loc and (s_db_left(s) not in node.s_loc or s_db_left(s)[0] == '0'):\n",
    "                #deepcopy\n",
    "                temp_s = copy.deepcopy(node.s_loc)\n",
    "                temp_c = copy.deepcopy(node.c_loc)\n",
    "                temp_s.append(s_db_left(s))\n",
    "                temp_c.remove(s_left(s))\n",
    "                temp_s.remove(s)\n",
    "                node.child.append(TreeNode(None, temp_s, temp_c, \"Circle\", [s, s_db_left(s)]))\n",
    "\n",
    "        #jump and eat: right\n",
    "        if check_s_rj(s) and s_right(s) in node.c_loc:\n",
    "            if s_db_right(s) not in node.c_loc and (s_db_right(s) not in node.s_loc or s_db_right(s)[0] == '0'):\n",
    "                #deepcopy\n",
    "                temp_s = copy.deepcopy(node.s_loc)\n",
    "                temp_c = copy.deepcopy(node.c_loc)\n",
    "                temp_s.append(s_db_right(s))\n",
    "                temp_c.remove(s_right(s))\n",
    "                temp_s.remove(s)\n",
    "                node.child.append(TreeNode(None, temp_s, temp_c, \"Circle\", [s, s_db_right(s)]))\n",
    "\n",
    "        #walk: left\n",
    "        if check_s_lw(s) and s_left(s) not in node.c_loc and (s_left(s) not in node.s_loc or s_left(s)[0] == \"0\"):\n",
    "            temp_s = copy.deepcopy(node.s_loc)\n",
    "            temp_s.append(s_left(s))\n",
    "            temp_s.remove(s)\n",
    "            node.child.append(TreeNode(None, temp_s, node.c_loc, \"Circle\", [s, s_left(s)]))\n",
    "\n",
    "        #walk: right\n",
    "        if check_s_rw(s) and s_right(s) not in node.c_loc and (s_right(s) not in node.s_loc or s_right(s)[0] == '0'):\n",
    "            temp_s = copy.deepcopy(node.s_loc)\n",
    "            temp_s.append(s_right(s))\n",
    "            temp_s.remove(s)\n",
    "            node.child.append(TreeNode(None, temp_s, node.c_loc, \"Circle\", [s, s_right(s)])) \n",
    "            \n",
    "        for i in node.child:\n",
    "            print 'star',i.s_loc,i.c_loc\n",
    "#     for i in node.child:\n",
    "#         print i.s_loc\n",
    "#         return node.child\n",
    "# expand_s(node)"
   ]
  },
  {
   "cell_type": "code",
   "execution_count": 1551,
   "metadata": {
    "collapsed": true
   },
   "outputs": [],
   "source": [
    "#circle expand\n",
    "def expand_c(node):\n",
    "    for c in node.c_loc:\n",
    "        #walk: left\n",
    "        if check_c_lw(c) and c_left(c) not in node.s_loc and (c_left(c) not in node.c_loc or c_left(c)[0] == \"7\"):\n",
    "            temp_c = copy.deepcopy(node.c_loc)\n",
    "            temp_c.append(c_left(c))\n",
    "            temp_c.remove(c)\n",
    "            node.child.append(TreeNode(None, node.s_loc, temp_c, \"Star\", [c, c_left(c)]))\n",
    "\n",
    "        #walk: right\n",
    "        if check_c_rw(c) and c_right(c) not in node.s_loc and (c_right not in node.c_loc or c_right(c)[0] == '7'):\n",
    "            temp_c = copy.deepcopy(node.c_loc)\n",
    "            temp_c.append(c_right(c))\n",
    "            temp_c.remove(c)\n",
    "            node.child.append(TreeNode(None, node.s_loc, temp_c, \"Star\", [c, c_right(c)]))\n",
    "\n",
    "        #jump and eat: left\n",
    "        if check_c_1j(c) and c_left(c) in node.s_loc:\n",
    "            if c_db_left(c) not in node.s_loc and (c_db_left(c) not in node.c_loc or c_db_left(c)[0] == '7'):\n",
    "                #deepcopy\n",
    "                temp_s = copy.deepcopy(node.s_loc)\n",
    "                temp_c = copy.deepcopy(node.c_loc)\n",
    "                temp_c.append(c_db_left(c))\n",
    "                temp_s.remove(c_left(c))\n",
    "                temp_c.remove(c)\n",
    "                node.child.append(TreeNode(None, temp_s, temp_c, \"Star\", [c, c_db_left(c)]))\n",
    "\n",
    "        #jump and eat: right\n",
    "        if check_c_rj(c) and c_right(c) in node.s_loc:\n",
    "            if c_db_right(c) not in node.s_loc and (c_db_right(c) not in node.c_loc or c_db_right(c)[0] == '7'):\n",
    "                #deepcopy\n",
    "                temp_s = copy.deepcopy(node.s_loc)\n",
    "                temp_c = copy.deepcopy(node.c_loc)\n",
    "                temp_c.append(c_db_right(c))\n",
    "                temp_s.remove(c_right(c))\n",
    "                temp_c.remove(c)\n",
    "                node.child.append(TreeNode(None, temp_s, temp_c, \"Star\", [c, c_db_right(c)]))\n",
    "                \n",
    "        for i in node.child:\n",
    "            print 'circle',i.s_loc,i.c_loc\n",
    "            \n",
    "        return node.child"
   ]
  },
  {
   "cell_type": "code",
   "execution_count": 1561,
   "metadata": {
    "scrolled": true
   },
   "outputs": [],
   "source": [
    "# expand board\n",
    "pre = False\n",
    "import copy\n",
    "def expand(node):\n",
    "    node.child=[]\n",
    "    if node.player == 'Star': \n",
    "        expand_s(node)\n",
    "#         if node.child == []: expand_c(node)\n",
    "    else: \n",
    "        expand_c(node)\n",
    "#         if  node.child == []: expand_s(node)\n",
    "    return node.child        \n",
    "# expand(root)\n",
    "# a = expand(root.child[0])\n",
    "# b = expand(a[0])\n",
    "# print (b[1].path)"
   ]
  },
  {
   "cell_type": "code",
   "execution_count": 1573,
   "metadata": {},
   "outputs": [
    {
     "name": "stdout",
     "output_type": "stream",
     "text": [
      "star ['01', '01'] []\n",
      "star ['01', '14'] ['12']\n"
     ]
    },
    {
     "ename": "RuntimeError",
     "evalue": "maximum recursion depth exceeded",
     "output_type": "error",
     "traceback": [
      "\u001b[0;31m---------------------------------------------------------------------------\u001b[0m",
      "\u001b[0;31mRuntimeError\u001b[0m                              Traceback (most recent call last)",
      "\u001b[0;32m<ipython-input-1573-b034cf0d5b74>\u001b[0m in \u001b[0;36m<module>\u001b[0;34m()\u001b[0m\n\u001b[1;32m     36\u001b[0m \u001b[0;31m#             val_list = [n.val for n in node.child]\u001b[0m\u001b[0;34m\u001b[0m\u001b[0;34m\u001b[0m\u001b[0m\n\u001b[1;32m     37\u001b[0m \u001b[0;31m#             print (val_list)\u001b[0m\u001b[0;34m\u001b[0m\u001b[0;34m\u001b[0m\u001b[0m\n\u001b[0;32m---> 38\u001b[0;31m \u001b[0;32mprint\u001b[0m \u001b[0;34m(\u001b[0m\u001b[0mminimax\u001b[0m\u001b[0;34m(\u001b[0m\u001b[0mroot\u001b[0m\u001b[0;34m,\u001b[0m \u001b[0;36m2\u001b[0m\u001b[0;34m)\u001b[0m\u001b[0;34m)\u001b[0m\u001b[0;34m\u001b[0m\u001b[0m\n\u001b[0m\u001b[1;32m     39\u001b[0m \u001b[0;34m\u001b[0m\u001b[0m\n",
      "\u001b[0;32m<ipython-input-1573-b034cf0d5b74>\u001b[0m in \u001b[0;36mminimax\u001b[0;34m(node, d)\u001b[0m\n\u001b[1;32m     24\u001b[0m \u001b[0;34m\u001b[0m\u001b[0m\n\u001b[1;32m     25\u001b[0m     \u001b[0;32mfor\u001b[0m \u001b[0mn\u001b[0m \u001b[0;32min\u001b[0m \u001b[0mnode\u001b[0m\u001b[0;34m.\u001b[0m\u001b[0mchild\u001b[0m\u001b[0;34m:\u001b[0m\u001b[0;34m\u001b[0m\u001b[0m\n\u001b[0;32m---> 26\u001b[0;31m         \u001b[0mminimax\u001b[0m\u001b[0;34m(\u001b[0m\u001b[0mn\u001b[0m\u001b[0;34m,\u001b[0m \u001b[0md\u001b[0m \u001b[0;34m-\u001b[0m \u001b[0;36m1\u001b[0m\u001b[0;34m)\u001b[0m\u001b[0;34m\u001b[0m\u001b[0m\n\u001b[0m\u001b[1;32m     27\u001b[0m     \u001b[0;32mprint\u001b[0m \u001b[0md\u001b[0m\u001b[0;34m\u001b[0m\u001b[0m\n\u001b[1;32m     28\u001b[0m     \u001b[0mval_list\u001b[0m \u001b[0;34m=\u001b[0m \u001b[0;34m[\u001b[0m\u001b[0mn\u001b[0m\u001b[0;34m.\u001b[0m\u001b[0mval\u001b[0m \u001b[0;32mfor\u001b[0m \u001b[0mn\u001b[0m \u001b[0;32min\u001b[0m \u001b[0mnode\u001b[0m\u001b[0;34m.\u001b[0m\u001b[0mchild\u001b[0m\u001b[0;34m]\u001b[0m\u001b[0;34m\u001b[0m\u001b[0m\n",
      "\u001b[0;32m<ipython-input-1573-b034cf0d5b74>\u001b[0m in \u001b[0;36mminimax\u001b[0;34m(node, d)\u001b[0m\n\u001b[1;32m     24\u001b[0m \u001b[0;34m\u001b[0m\u001b[0m\n\u001b[1;32m     25\u001b[0m     \u001b[0;32mfor\u001b[0m \u001b[0mn\u001b[0m \u001b[0;32min\u001b[0m \u001b[0mnode\u001b[0m\u001b[0;34m.\u001b[0m\u001b[0mchild\u001b[0m\u001b[0;34m:\u001b[0m\u001b[0;34m\u001b[0m\u001b[0m\n\u001b[0;32m---> 26\u001b[0;31m         \u001b[0mminimax\u001b[0m\u001b[0;34m(\u001b[0m\u001b[0mn\u001b[0m\u001b[0;34m,\u001b[0m \u001b[0md\u001b[0m \u001b[0;34m-\u001b[0m \u001b[0;36m1\u001b[0m\u001b[0;34m)\u001b[0m\u001b[0;34m\u001b[0m\u001b[0m\n\u001b[0m\u001b[1;32m     27\u001b[0m     \u001b[0;32mprint\u001b[0m \u001b[0md\u001b[0m\u001b[0;34m\u001b[0m\u001b[0m\n\u001b[1;32m     28\u001b[0m     \u001b[0mval_list\u001b[0m \u001b[0;34m=\u001b[0m \u001b[0;34m[\u001b[0m\u001b[0mn\u001b[0m\u001b[0;34m.\u001b[0m\u001b[0mval\u001b[0m \u001b[0;32mfor\u001b[0m \u001b[0mn\u001b[0m \u001b[0;32min\u001b[0m \u001b[0mnode\u001b[0m\u001b[0;34m.\u001b[0m\u001b[0mchild\u001b[0m\u001b[0;34m]\u001b[0m\u001b[0;34m\u001b[0m\u001b[0m\n",
      "... last 2 frames repeated, from the frame below ...\n",
      "\u001b[0;32m<ipython-input-1573-b034cf0d5b74>\u001b[0m in \u001b[0;36mminimax\u001b[0;34m(node, d)\u001b[0m\n\u001b[1;32m     24\u001b[0m \u001b[0;34m\u001b[0m\u001b[0m\n\u001b[1;32m     25\u001b[0m     \u001b[0;32mfor\u001b[0m \u001b[0mn\u001b[0m \u001b[0;32min\u001b[0m \u001b[0mnode\u001b[0m\u001b[0;34m.\u001b[0m\u001b[0mchild\u001b[0m\u001b[0;34m:\u001b[0m\u001b[0;34m\u001b[0m\u001b[0m\n\u001b[0;32m---> 26\u001b[0;31m         \u001b[0mminimax\u001b[0m\u001b[0;34m(\u001b[0m\u001b[0mn\u001b[0m\u001b[0;34m,\u001b[0m \u001b[0md\u001b[0m \u001b[0;34m-\u001b[0m \u001b[0;36m1\u001b[0m\u001b[0;34m)\u001b[0m\u001b[0;34m\u001b[0m\u001b[0m\n\u001b[0m\u001b[1;32m     27\u001b[0m     \u001b[0;32mprint\u001b[0m \u001b[0md\u001b[0m\u001b[0;34m\u001b[0m\u001b[0m\n\u001b[1;32m     28\u001b[0m     \u001b[0mval_list\u001b[0m \u001b[0;34m=\u001b[0m \u001b[0;34m[\u001b[0m\u001b[0mn\u001b[0m\u001b[0;34m.\u001b[0m\u001b[0mval\u001b[0m \u001b[0;32mfor\u001b[0m \u001b[0mn\u001b[0m \u001b[0;32min\u001b[0m \u001b[0mnode\u001b[0m\u001b[0;34m.\u001b[0m\u001b[0mchild\u001b[0m\u001b[0;34m]\u001b[0m\u001b[0;34m\u001b[0m\u001b[0m\n",
      "\u001b[0;31mRuntimeError\u001b[0m: maximum recursion depth exceeded"
     ]
    }
   ],
   "source": [
    "#minimax\n",
    "def minimax(node, d):\n",
    "    if d == 0:\n",
    "        node.val = evaluate(node, weight)\n",
    "        print \"aaa\",node.val\n",
    "        return node.val\n",
    "    expand(node)\n",
    "#pass\n",
    "    \n",
    "    if node.child == []:\n",
    "        t_node = copy.deepcopy(node)\n",
    "        node.child.append(t_node)\n",
    "        if (t_node.player == 'Star' and expand_c(t_node) == []) or (t_node.player == 'Circle' and expand_s(t_node) == []):\n",
    "            node.val = evaluate(node, weight)\n",
    "            print 'te'\n",
    "            d -= 1\n",
    "            return node.val\n",
    "        else:\n",
    "            if t_node.player == 'Star':\n",
    "                t_node.player ='Circle'\n",
    "            else: t_node.player == 'Star'\n",
    "                \n",
    "            expand(t_node)\n",
    "            \n",
    "            \n",
    "    for n in node.child:\n",
    "        minimax(n, d - 1)\n",
    "    print d\n",
    "    val_list = [n.val for n in node.child]\n",
    "    print \"val list\",val_list\n",
    "    if node.player == 'Star':\n",
    "        node.val = max(val_list)\n",
    "    else:\n",
    "        node.val = min(val_list)\n",
    "    return node.val\n",
    "    \n",
    "#             val_list = [n.val for n in node.child]\n",
    "#             print (val_list)\n",
    "print (minimax(root, 2))\n",
    "        "
   ]
  },
  {
   "cell_type": "code",
   "execution_count": null,
   "metadata": {
    "collapsed": true
   },
   "outputs": [],
   "source": []
  },
  {
   "cell_type": "code",
   "execution_count": 1554,
   "metadata": {},
   "outputs": [
    {
     "name": "stdout",
     "output_type": "stream",
     "text": [
      "3\n"
     ]
    }
   ],
   "source": [
    "print 3"
   ]
  },
  {
   "cell_type": "code",
   "execution_count": null,
   "metadata": {
    "collapsed": true
   },
   "outputs": [],
   "source": []
  }
 ],
 "metadata": {
  "kernelspec": {
   "display_name": "Python 2",
   "language": "python",
   "name": "python2"
  },
  "language_info": {
   "codemirror_mode": {
    "name": "ipython",
    "version": 2
   },
   "file_extension": ".py",
   "mimetype": "text/x-python",
   "name": "python",
   "nbconvert_exporter": "python",
   "pygments_lexer": "ipython2",
   "version": "2.7.14"
  }
 },
 "nbformat": 4,
 "nbformat_minor": 2
}

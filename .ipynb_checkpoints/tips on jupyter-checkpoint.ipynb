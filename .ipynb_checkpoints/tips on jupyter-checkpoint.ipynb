{
 "cells": [
  {
   "cell_type": "markdown",
   "metadata": {},
   "source": []
  },
  {
   "cell_type": "code",
   "execution_count": 2,
   "metadata": {},
   "outputs": [],
   "source": [
    "%matplotlib inline\n",
    "import pandas as pd\n",
    "import numpy as np\n",
    "import matplotlib"
   ]
  },
  {
   "cell_type": "markdown",
   "metadata": {},
   "source": [
    "# Little little tips on Jupyter lab\n",
    "\n",
    "-------------------------\n",
    "* [Here is their blog.](\n",
    "https://blog.jupyter.org/jupyterlab-is-ready-for-users-5a6f039b8906)\n",
    "* In their blog there is a link called `Try it with Binder`, you may try jupyterLab first. You will like it.\n",
    "* [Here is the Github.](\n",
    "https://github.com/jupyterlab)\n",
    "Jupyter lab is a new released version of IDE. It's designed for sci calculation. You may feel the happiness of coding to meet such a interesting coding tool.\n",
    "\n",
    "## how to install\n",
    "\n",
    "### 1. install anaconda\n",
    "\n",
    "Anaconda is necessary for version controlling and packet supervising for python. First you may want to log into the qsubmit server.\n",
    "* (For mac & windows user) Google the anaconda website, just download and install according to the install wizard.\n",
    "* (For unix user) Since we use qsubmit, execute such command\n",
    "```bash\n",
    "wget https://repo.continuum.io/archive/Anaconda2-4.4.0-Linux-x86_64.sh\n",
    "bash Anaconda2-4.4.0-Linux-x86_64.sh\n",
    "```\n",
    "The installation might be a bit long. Enter yes for each question. And `source` the environment parameter.\n",
    "```bash\n",
    "source ~/.bashrc\n",
    "```\n",
    "Since anaconda is installed, now you can test via:\n",
    "```bash\n",
    "which conda\n",
    "```\n",
    "\n",
    "### 2. install jupyter \n",
    "it is pre-installed in the ancaconda, so don't worry about that.\n",
    "\n",
    "### 3. install jupyter lab\n",
    "enter such commands in terminal\n",
    "```bash\n",
    "conda install -c conda-forge jupyterlab\n",
    "jupyter serverextension enable --py jupyterlab --sys-prefix\n",
    "```\n",
    "\n",
    "### 4. install extensions (Not necessary)\n",
    "you may need nodejs 5+ to install extensions.\n",
    "I may show how to install extensions about jupyterlab/google-drive\n",
    "```bash\n",
    "jupyter labextension install @jupyterlab/google-drive\n",
    "```\n",
    "So that you can fetch your file from jupyterlab UI directly now.\n",
    "\n",
    "## Start\n",
    "* Enter `jupyter lab` directly in your local machine.\n",
    "* If you want start a server in qsub:\n",
    "```bash\n",
    "qrsh -P other\n",
    "jupyter lab --ip:0.0.0.0\n",
    "```\n",
    "and then open a browser and explore $machinename$.isi.edu:8888/lab<br>\n",
    "\n",
    "## Interface\n",
    "![whole UI](./resource/UI.jpeg)\n",
    "In the jupyter lab, you can read PDF file, modify Github repository, connect Google-Drive, explore formatted json file, run python&ruby&R&otherlanguages in cells, write markdown&latex, edit txt file, execute bash or command...\n",
    "\n",
    "![leftbar](./resource/leftbar.jpeg)\n",
    "You can click Files to toggle the resource manager.<br>\n",
    "There is a plus on the left from which you can create a new window for a terminal or a new file.<br>\n",
    "If you install google-drive extension, there will be a button showed here.<br>\n",
    "\n",
    "![topbar](./resource/topbar.jpeg)\n",
    "You can change the theme here of your IDE.<br>\n",
    "Even cheatsheet can be find in the Help panel. (tutorial about numpy scipy and pandas)<br>\n",
    "\n",
    "![namebar](./resource/namebar.jpeg)\n",
    "You can drag the name to create your own layout of workspace.<br>\n",
    "There are some fast cut to save, copy and run your code.<br>\n",
    "\n",
    "## Usage\n",
    "\n",
    "The usage is totally same with jupyter notebook except for some new features.<br>\n",
    "First you can use `+` to create a .ipynb<br>\n",
    "![collapse](./resource/cell1.jpeg)\n",
    "now you can notice all cells has a blue line on the left.<br>\n",
    "You can drag the line to reorder the code cells.<br>\n",
    "Simplily click will toggle the cell. You can hide codes you don't want to display via this feature.<br>\n",
    "\n",
    "![science calculate](./resource/scical.jpeg)\n",
    "You can press the `+` to create a new code cell.<br>\n",
    "By `shift + Enter`, you can execute one cell and move to the next.<br>\n",
    "It's more convenient than a simply .py file because you can test and debug the output of every variables and don't have to execute them all.<br>\n",
    "Here you can change some cell type from 'code' to 'markdown' like this tiny-tips.<br>\n",
    "In markdown cell you can write notes, formats in latex which will help coding a lot.<br>\n",
    "You can even create a link and html tag in the mardown cell.<br>\n",
    "![htmltag](./resource/htmltag.jpeg)"
   ]
  },
  {
   "cell_type": "code",
   "execution_count": null,
   "metadata": {},
   "outputs": [],
   "source": []
  },
  {
   "cell_type": "code",
   "execution_count": 1,
   "metadata": {},
   "outputs": [
    {
     "name": "stdout",
     "output_type": "stream",
     "text": [
      "1\n"
     ]
    }
   ],
   "source": [
    "a=1\n",
    "b=1\n",
    "c=1\n",
    "d=1\n",
    "e=1\n",
    "print a"
   ]
  },
  {
   "cell_type": "markdown",
   "metadata": {},
   "source": [
    "$$A^{-1}+B^{-1}=(A+B)^{-1}$$"
   ]
  },
  {
   "cell_type": "code",
   "execution_count": 6,
   "metadata": {},
   "outputs": [
    {
     "name": "stdout",
     "output_type": "stream",
     "text": [
      "[[  1.   1.   2.   3.]\n",
      " [  4.   6.   6.   7.]\n",
      " [  8.   9.  11.  11.]\n",
      " [ 12.  13.  14.  16.]]\n",
      "[[ 1.  0.  0.  0.]\n",
      " [ 0.  1.  0.  0.]\n",
      " [ 0.  0.  1.  0.]\n",
      " [ 0.  0.  0.  1.]]\n"
     ]
    }
   ],
   "source": [
    "import numpy as np\n",
    "a = np.arange(16).reshape((4,4))\n",
    "b = np.eye(4)\n",
    "a = a + b\n",
    "print a\n",
    "print b"
   ]
  },
  {
   "cell_type": "code",
   "execution_count": 14,
   "metadata": {},
   "outputs": [
    {
     "name": "stdout",
     "output_type": "stream",
     "text": [
      "[[  8.57142857e-01  -6.32653061e-01  -1.22448980e-01   3.87755102e-01]\n",
      " [ -5.71428571e-01   1.61224490e+00  -2.04081633e-01  -2.04081633e-02]\n",
      " [ -5.89097931e-17  -1.42857143e-01   1.71428571e+00  -4.28571429e-01]\n",
      " [  5.71428571e-01   1.02040816e-01  -3.67346939e-01   1.16326531e+00]]\n",
      "[[-1.25   -0.9375 -0.125   0.6875]\n",
      " [-0.75    0.0625 -0.125   0.1875]\n",
      " [ 0.25    0.0625  0.375  -0.3125]\n",
      " [ 1.25    0.5625 -0.125  -0.3125]]\n"
     ]
    }
   ],
   "source": [
    "a=np.mat(a)\n",
    "b=np.mat(b)\n",
    "print a.I+b.I\n",
    "print (a+b).I"
   ]
  },
  {
   "cell_type": "markdown",
   "metadata": {},
   "source": [
    "<img src='./resource/110.jpeg' width=100px height=100px>"
   ]
  },
  {
   "cell_type": "markdown",
   "metadata": {},
   "source": [
    "<img src='./resource/110.jpeg' width=100px height=100px>"
   ]
  },
  {
   "cell_type": "markdown",
   "metadata": {},
   "source": [
    "[to top](#Start)"
   ]
  },
  {
   "cell_type": "markdown",
   "metadata": {},
   "source": [
    "[to top](#Start)"
   ]
  },
  {
   "cell_type": "code",
   "execution_count": null,
   "metadata": {},
   "outputs": [],
   "source": []
  },
  {
   "cell_type": "code",
   "execution_count": null,
   "metadata": {},
   "outputs": [],
   "source": []
  }
 ],
 "metadata": {
  "kernelspec": {
   "display_name": "Python 2",
   "language": "python",
   "name": "python2"
  },
  "language_info": {
   "codemirror_mode": {
    "name": "ipython",
    "version": 2
   },
   "file_extension": ".py",
   "mimetype": "text/x-python",
   "name": "python",
   "nbconvert_exporter": "python",
   "pygments_lexer": "ipython2",
   "version": "2.7.13"
  }
 },
 "nbformat": 4,
 "nbformat_minor": 2
}
